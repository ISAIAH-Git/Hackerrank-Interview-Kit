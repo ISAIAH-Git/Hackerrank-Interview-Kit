{
 "cells": [
  {
   "cell_type": "code",
   "execution_count": 1,
   "metadata": {},
   "outputs": [],
   "source": [
    "def sockMerchant(n, ar):\n",
    "    import collections\n",
    "    Dict=dict(collections.Counter(ar))\n",
    "    even_numbers=[]\n",
    "    odd_numbers=[]\n",
    "    for i in list(Dict.values()):\n",
    "        if(i%2==0):\n",
    "            even_numbers.append(int((i/2)))\n",
    "        elif(i%2==1):\n",
    "            odd_numbers.append(int((i/2)))\n",
    "    pairs_count=sum(even_numbers+odd_numbers)\n",
    "    return pairs_count"
   ]
  },
  {
   "cell_type": "code",
   "execution_count": 3,
   "metadata": {},
   "outputs": [
    {
     "data": {
      "text/plain": [
       "3"
      ]
     },
     "execution_count": 3,
     "metadata": {},
     "output_type": "execute_result"
    }
   ],
   "source": [
    "sockMerchant(9,[10,20,20,10,10,30,50,10,20])"
   ]
  }
 ],
 "metadata": {
  "kernelspec": {
   "display_name": "Python 3",
   "language": "python",
   "name": "python3"
  },
  "language_info": {
   "codemirror_mode": {
    "name": "ipython",
    "version": 3
   },
   "file_extension": ".py",
   "mimetype": "text/x-python",
   "name": "python",
   "nbconvert_exporter": "python",
   "pygments_lexer": "ipython3",
   "version": "3.8.3"
  }
 },
 "nbformat": 4,
 "nbformat_minor": 4
}
