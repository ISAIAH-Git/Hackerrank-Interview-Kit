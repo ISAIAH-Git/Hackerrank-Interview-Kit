{
 "cells": [
  {
   "cell_type": "code",
   "execution_count": 3,
   "metadata": {},
   "outputs": [
    {
     "name": "stdout",
     "output_type": "stream",
     "text": [
      "2\n",
      "hello\n",
      "world\n",
      "YES\n",
      "hi\n",
      "world\n",
      "NO\n"
     ]
    }
   ],
   "source": [
    "for i in range(int(input())):\n",
    "    s1=input()\n",
    "    s2=input()\n",
    "    common=list(set(s1).intersection(set(s2)))\n",
    "    if(len(common)>=1):\n",
    "        if((common[0] in s1) and (common[0] in s2)):\n",
    "            print(\"YES\")\n",
    "    else:\n",
    "        print(\"NO\")"
   ]
  }
 ],
 "metadata": {
  "kernelspec": {
   "display_name": "Python 3",
   "language": "python",
   "name": "python3"
  }
 },
 "nbformat": 4,
 "nbformat_minor": 4
}
