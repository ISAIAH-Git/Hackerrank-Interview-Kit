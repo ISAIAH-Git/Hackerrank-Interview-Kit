{
 "cells": [
  {
   "cell_type": "code",
   "execution_count": 1,
   "metadata": {},
   "outputs": [
    {
     "name": "stdout",
     "output_type": "stream",
     "text": [
      "abc\n",
      "10\n",
      "4\n"
     ]
    }
   ],
   "source": [
    "s=input()\n",
    "a=int(input())\n",
    "try:\n",
    "    String=s*a\n",
    "    print(String[:a].count('a'))\n",
    "except:\n",
    "    print(s.count(\"a\") * (a // len(s)) + s[:a % len(s)].count(\"a\"))"
   ]
  }
 ],
 "metadata": {
  "kernelspec": {
   "display_name": "Python 3",
   "language": "python",
   "name": "python3"
  },
  "language_info": {
   "codemirror_mode": {
    "name": "ipython",
    "version": 3
   },
   "file_extension": ".py",
   "mimetype": "text/x-python",
   "name": "python",
   "nbconvert_exporter": "python",
   "pygments_lexer": "ipython3",
   "version": "3.8.3"
  }
 },
 "nbformat": 4,
 "nbformat_minor": 4
}
